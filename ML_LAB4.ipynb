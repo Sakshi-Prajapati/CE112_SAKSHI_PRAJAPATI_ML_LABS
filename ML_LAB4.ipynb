{
  "nbformat": 4,
  "nbformat_minor": 0,
  "metadata": {
    "colab": {
      "provenance": [],
      "include_colab_link": true
    },
    "kernelspec": {
      "name": "python3",
      "display_name": "Python 3"
    },
    "language_info": {
      "name": "python"
    }
  },
  "cells": [
    {
      "cell_type": "markdown",
      "metadata": {
        "id": "view-in-github",
        "colab_type": "text"
      },
      "source": [
        "<a href=\"https://colab.research.google.com/github/Sakshi-Prajapati/ML_LABS/blob/main/ML_LAB4.ipynb\" target=\"_parent\"><img src=\"https://colab.research.google.com/assets/colab-badge.svg\" alt=\"Open In Colab\"/></a>"
      ]
    },
    {
      "cell_type": "code",
      "execution_count": null,
      "metadata": {
        "id": "zgQprwpZxHUT"
      },
      "outputs": [],
      "source": [
        "import numpy as np\n",
        "import torch"
      ]
    },
    {
      "cell_type": "markdown",
      "source": [
        "Training Data"
      ],
      "metadata": {
        "id": "p6hooQO4HhjI"
      }
    },
    {
      "cell_type": "code",
      "source": [
        "inputs = np.array([[73, 67, 43],\n",
        "                  [91, 88, 64],\n",
        "                  [87, 134, 58],\n",
        "                  [102, 43, 37],\n",
        "                  [69, 96, 70],], dtype='float32')\n",
        "\n",
        "outputs = np.array([[56],\n",
        "                    [81],\n",
        "                    [119],\n",
        "                    [22],\n",
        "                    [103]], dtype='float32')"
      ],
      "metadata": {
        "id": "lsNywsjpHj5y"
      },
      "execution_count": null,
      "outputs": []
    },
    {
      "cell_type": "markdown",
      "source": [
        "Convert inputs and targets to tensors"
      ],
      "metadata": {
        "id": "yvss-_kxIh9f"
      }
    },
    {
      "cell_type": "code",
      "source": [
        "input_torch = torch.from_numpy(inputs)\n",
        "output_torch = torch.from_numpy(outputs)\n",
        "print(\"input_torch:\", input_torch)\n",
        "print(\"output_torch:\", output_torch)"
      ],
      "metadata": {
        "colab": {
          "base_uri": "https://localhost:8080/"
        },
        "id": "W_UgyTycIirQ",
        "outputId": "7884fd9d-be85-4bb3-eb31-75afc867bd45"
      },
      "execution_count": null,
      "outputs": [
        {
          "output_type": "stream",
          "name": "stdout",
          "text": [
            "input_torch: tensor([[ 73.,  67.,  43.],\n",
            "        [ 91.,  88.,  64.],\n",
            "        [ 87., 134.,  58.],\n",
            "        [102.,  43.,  37.],\n",
            "        [ 69.,  96.,  70.]])\n",
            "output_torch: tensor([[ 56.],\n",
            "        [ 81.],\n",
            "        [119.],\n",
            "        [ 22.],\n",
            "        [103.]])\n"
          ]
        }
      ]
    },
    {
      "cell_type": "markdown",
      "source": [
        "Weights and biases"
      ],
      "metadata": {
        "id": "RGcRlM68JCSP"
      }
    },
    {
      "cell_type": "code",
      "source": [
        "rand_weight = torch.rand((1,3), requires_grad = True)\n",
        "print(rand_weight)\n",
        "\n",
        "rand_bais = torch.rand((5,1), requires_grad = True)\n",
        "print(rand_bais)"
      ],
      "metadata": {
        "colab": {
          "base_uri": "https://localhost:8080/"
        },
        "id": "3DpLfx9WJDfe",
        "outputId": "b100b8aa-9731-4cfd-a7ff-011bd1c7223a"
      },
      "execution_count": null,
      "outputs": [
        {
          "output_type": "stream",
          "name": "stdout",
          "text": [
            "tensor([[0.0547, 0.8212, 0.3299]], requires_grad=True)\n",
            "tensor([[0.7202],\n",
            "        [0.3626],\n",
            "        [0.1962],\n",
            "        [0.5864],\n",
            "        [0.9932]], requires_grad=True)\n"
          ]
        }
      ]
    },
    {
      "cell_type": "markdown",
      "source": [
        "Define Model"
      ],
      "metadata": {
        "id": "Hiop6c04Jt_2"
      }
    },
    {
      "cell_type": "code",
      "source": [
        "# from sklearn.linear_model import LinearRegression\n",
        "\n",
        "# regressor = LinearRegression()\n",
        "# regressor.fit(input_torch,output_torch)\n",
        "def model(X):\n",
        "  return X @ rand_weight.T + rand_bais"
      ],
      "metadata": {
        "id": "kyF0pYM7KWRN"
      },
      "execution_count": null,
      "outputs": []
    },
    {
      "cell_type": "markdown",
      "source": [
        "Generate predictions"
      ],
      "metadata": {
        "id": "kOi-jdiGKyBa"
      }
    },
    {
      "cell_type": "code",
      "source": [
        "# output_pred = regressor.predict(input_torch)\n",
        "# output_pred = torch.from_numpy(output_pred)\n",
        "\n",
        "output_pred = model(input_torch)\n",
        "print(\"output_pred\", output_pred)"
      ],
      "metadata": {
        "colab": {
          "base_uri": "https://localhost:8080/"
        },
        "id": "VCiywzs4Kyov",
        "outputId": "0d29da97-106b-483c-bdb3-8322fe2852bf"
      },
      "execution_count": null,
      "outputs": [
        {
          "output_type": "stream",
          "name": "stdout",
          "text": [
            "output_pred tensor([[ 73.9207],\n",
            "        [ 98.7214],\n",
            "        [134.1331],\n",
            "        [ 53.6838],\n",
            "        [106.6982]], grad_fn=<AddBackward0>)\n"
          ]
        }
      ]
    },
    {
      "cell_type": "markdown",
      "source": [
        "Compare with targets"
      ],
      "metadata": {
        "id": "TpRUqyrILX3n"
      }
    },
    {
      "cell_type": "code",
      "source": [
        "print(output_torch)"
      ],
      "metadata": {
        "colab": {
          "base_uri": "https://localhost:8080/"
        },
        "id": "NKSK4iQiTTv_",
        "outputId": "dc50d6c9-0853-4d57-f272-02362f6c2554"
      },
      "execution_count": null,
      "outputs": [
        {
          "output_type": "stream",
          "name": "stdout",
          "text": [
            "tensor([[ 56.],\n",
            "        [ 81.],\n",
            "        [119.],\n",
            "        [ 22.],\n",
            "        [103.]])\n"
          ]
        }
      ]
    },
    {
      "cell_type": "markdown",
      "source": [
        "# Loss Function"
      ],
      "metadata": {
        "id": "SbhIvtr_NPLi"
      }
    },
    {
      "cell_type": "markdown",
      "source": [
        "MSE Loss"
      ],
      "metadata": {
        "id": "XXsqqpNlNQvo"
      }
    },
    {
      "cell_type": "code",
      "source": [
        "def MSE(t1, t2):\n",
        "  diff = t1 - t2\n",
        "  return torch.sum(diff*diff)/diff.numel()"
      ],
      "metadata": {
        "id": "4yGDybtWTgsu"
      },
      "execution_count": null,
      "outputs": []
    },
    {
      "cell_type": "markdown",
      "source": [
        "Compute loss"
      ],
      "metadata": {
        "id": "nU1CmsxITsoQ"
      }
    },
    {
      "cell_type": "code",
      "source": [
        "loss = MSE(output_pred, output_torch)\n",
        "print(loss)"
      ],
      "metadata": {
        "colab": {
          "base_uri": "https://localhost:8080/"
        },
        "id": "h6PjnAgSTt86",
        "outputId": "45f42f60-5794-4f65-93c6-58f452eeac72"
      },
      "execution_count": null,
      "outputs": [
        {
          "output_type": "stream",
          "name": "stdout",
          "text": [
            "tensor(376.3502, grad_fn=<DivBackward0>)\n"
          ]
        }
      ]
    },
    {
      "cell_type": "markdown",
      "source": [
        "# Compute Gradients"
      ],
      "metadata": {
        "id": "Yo5-Ny7nOS5H"
      }
    },
    {
      "cell_type": "markdown",
      "source": [
        "Compute gradient"
      ],
      "metadata": {
        "id": "naPfW4r5T4Lu"
      }
    },
    {
      "cell_type": "code",
      "source": [
        "loss.backward()"
      ],
      "metadata": {
        "id": "0nf_YSKXQExX"
      },
      "execution_count": null,
      "outputs": []
    },
    {
      "cell_type": "markdown",
      "source": [
        "Gradients for weights and bais"
      ],
      "metadata": {
        "id": "6gph3eMfT-U3"
      }
    },
    {
      "cell_type": "code",
      "source": [
        "print(rand_weight)\n",
        "print(rand_weight.grad)\n",
        "\n",
        "print(rand_bais)\n",
        "print(rand_bais.grad)"
      ],
      "metadata": {
        "colab": {
          "base_uri": "https://localhost:8080/"
        },
        "id": "6drAXY1lT_j3",
        "outputId": "add7a7e4-7f18-4d3a-e9e7-dfca08e4017b"
      },
      "execution_count": null,
      "outputs": [
        {
          "output_type": "stream",
          "name": "stdout",
          "text": [
            "tensor([[0.0547, 0.8212, 0.3299]], requires_grad=True)\n",
            "tensor([[3089.7446, 2602.1738, 1685.4611]])\n",
            "tensor([[0.7202],\n",
            "        [0.3626],\n",
            "        [0.1962],\n",
            "        [0.5864],\n",
            "        [0.9932]], requires_grad=True)\n",
            "tensor([[ 7.1683],\n",
            "        [ 7.0886],\n",
            "        [ 6.0532],\n",
            "        [12.6735],\n",
            "        [ 1.4793]])\n"
          ]
        }
      ]
    },
    {
      "cell_type": "markdown",
      "source": [
        "# Adjust weights and biases using gradient descent"
      ],
      "metadata": {
        "id": "7x0RvEXYUcq3"
      }
    },
    {
      "cell_type": "code",
      "source": [
        "# Generate predictions\n",
        "output_pred = model(input_torch)\n",
        "print(\"output_pred\", output_pred)\n",
        "\n",
        "# Calculate Loss\n",
        "loss = MSE(output_pred, output_torch)\n",
        "print(\"Loss; \", loss)\n",
        "\n",
        "# Compute Gradients\n",
        "loss.backward()\n",
        "\n",
        "# Adjust weights & reset gradients\n",
        "with torch.no_grad():\n",
        "    rand_weight -= rand_weight.grad * 1e-5\n",
        "    # rand_weight -= rand_weight.grad * 0.0000001\n",
        "    rand_bais -= rand_bais.grad * 1e-5\n",
        "    # rand_bais -= rand_bais.grad * 0.0000001\n",
        "    rand_weight.grad.zero_()\n",
        "    rand_bais.grad.zero_()\n",
        "\n",
        "# Calculate loss\n",
        "output_pred = model(input_torch)\n",
        "loss = MSE(output_pred, output_torch)\n",
        "print(\"Loss; \", loss)\n",
        "print(\"output_pred: \", output_pred)\n",
        "print(\"Actual: \", output_torch)"
      ],
      "metadata": {
        "colab": {
          "base_uri": "https://localhost:8080/"
        },
        "id": "HgR-zup8UyYJ",
        "outputId": "1788889f-824a-46bc-fe0c-2281fd22c6e3"
      },
      "execution_count": null,
      "outputs": [
        {
          "output_type": "stream",
          "name": "stdout",
          "text": [
            "output_pred tensor([[140.3525],\n",
            "        [186.0000],\n",
            "        [216.9712],\n",
            "        [136.4146],\n",
            "        [180.9000]], grad_fn=<AddBackward0>)\n",
            "Loss;  tensor(9379.5615, grad_fn=<DivBackward0>)\n",
            "Loss;  tensor(1157.9247, grad_fn=<DivBackward0>)\n",
            "output_pred:  tensor([[ 85.7331],\n",
            "        [114.3254],\n",
            "        [132.9782],\n",
            "        [ 81.2122],\n",
            "        [112.6701]], grad_fn=<AddBackward0>)\n",
            "Actual:  tensor([[ 56.],\n",
            "        [ 81.],\n",
            "        [119.],\n",
            "        [ 22.],\n",
            "        [103.]])\n"
          ]
        }
      ]
    },
    {
      "cell_type": "markdown",
      "source": [
        "# Train for multiple epochs"
      ],
      "metadata": {
        "id": "P8yBVL47WRzM"
      }
    },
    {
      "cell_type": "code",
      "source": [
        "for i in range(100):\n",
        "    output_pred = model(input_torch)\n",
        "    loss = MSE(output_pred, output_torch)\n",
        "    loss.backward()\n",
        "    with torch.no_grad():\n",
        "      rand_weight -= rand_weight.grad * 1e-5\n",
        "      # rand_weight -= rand_weight.grad * 0.0000001\n",
        "      rand_bais -= rand_bais.grad * 1e-5\n",
        "      # rand_bais -= rand_bais.grad * 0.0000001\n",
        "      rand_weight.grad.zero_()\n",
        "      rand_bais.grad.zero_()\n",
        "\n",
        "# Calculate loss\n",
        "output_pred = model(input_torch)\n",
        "loss = MSE(output_pred, output_torch)\n",
        "print(\"Loss: \",loss)\n",
        "\n",
        "print(\"output_pred: \", output_pred)\n",
        "print(\"output_torch: \", output_torch)"
      ],
      "metadata": {
        "colab": {
          "base_uri": "https://localhost:8080/"
        },
        "id": "noSYmHNSWSso",
        "outputId": "16893f98-916f-4708-87f9-9fd5195c5d25"
      },
      "execution_count": null,
      "outputs": [
        {
          "output_type": "stream",
          "name": "stdout",
          "text": [
            "Loss:  tensor(37.9282, grad_fn=<DivBackward0>)\n",
            "output_pred:  tensor([[ 59.4376],\n",
            "        [ 82.5888],\n",
            "        [114.8527],\n",
            "        [ 32.2078],\n",
            "        [ 95.6583]], grad_fn=<AddBackward0>)\n",
            "output_torch:  tensor([[ 56.],\n",
            "        [ 81.],\n",
            "        [119.],\n",
            "        [ 22.],\n",
            "        [103.]])\n"
          ]
        }
      ]
    },
    {
      "cell_type": "markdown",
      "source": [
        "# Linear Regression Model using PyTorch built-ins"
      ],
      "metadata": {
        "id": "X4vZXNTvYi2A"
      }
    },
    {
      "cell_type": "code",
      "source": [
        "# Import Numpy & PyTorch\n",
        "import numpy as np\n",
        "import torch\n",
        "import torch.nn as nn"
      ],
      "metadata": {
        "id": "4QICHwtvYkdU"
      },
      "execution_count": null,
      "outputs": []
    },
    {
      "cell_type": "markdown",
      "source": [
        "Take Inputs and targets"
      ],
      "metadata": {
        "id": "IDtDZmQeBp7d"
      }
    },
    {
      "cell_type": "code",
      "source": [
        "# Input (temp, rainfall, humidity)\n",
        "inputs = np.array([[73, 67, 43], [91, 88, 64], [87, 134, 58], [102, 43, 37], \n",
        "                   [69, 96, 70], [73, 67, 43], [91, 88, 64], [87, 134, 58], \n",
        "                   [102, 43, 37], [69, 96, 70], [73, 67, 43], [91, 88, 64], \n",
        "                   [87, 134, 58], [102, 43, 37], [69, 96, 70]], dtype='float32')\n",
        "# Targets (apples, oranges)\n",
        "targets = np.array([[56, 70], [81, 101], [119, 133], [22, 37], [103, 119], \n",
        "                    [56, 70], [81, 101], [119, 133], [22, 37], [103, 119], \n",
        "                    [56, 70], [81, 101], [119, 133], [22, 37], [103, 119]], dtype='float32')\n",
        "\n",
        "# Convert into tensor\n",
        "inputs = torch.from_numpy(inputs)\n",
        "targets = torch.from_numpy(targets)\n",
        "print(inputs)\n",
        "print(targets)"
      ],
      "metadata": {
        "colab": {
          "base_uri": "https://localhost:8080/"
        },
        "id": "JopfDhhUBsqG",
        "outputId": "38d48a45-bc2e-4dc5-9952-ab084c33b58b"
      },
      "execution_count": null,
      "outputs": [
        {
          "output_type": "stream",
          "name": "stdout",
          "text": [
            "tensor([[ 73.,  67.,  43.],\n",
            "        [ 91.,  88.,  64.],\n",
            "        [ 87., 134.,  58.],\n",
            "        [102.,  43.,  37.],\n",
            "        [ 69.,  96.,  70.],\n",
            "        [ 73.,  67.,  43.],\n",
            "        [ 91.,  88.,  64.],\n",
            "        [ 87., 134.,  58.],\n",
            "        [102.,  43.,  37.],\n",
            "        [ 69.,  96.,  70.],\n",
            "        [ 73.,  67.,  43.],\n",
            "        [ 91.,  88.,  64.],\n",
            "        [ 87., 134.,  58.],\n",
            "        [102.,  43.,  37.],\n",
            "        [ 69.,  96.,  70.]])\n",
            "tensor([[ 56.,  70.],\n",
            "        [ 81., 101.],\n",
            "        [119., 133.],\n",
            "        [ 22.,  37.],\n",
            "        [103., 119.],\n",
            "        [ 56.,  70.],\n",
            "        [ 81., 101.],\n",
            "        [119., 133.],\n",
            "        [ 22.,  37.],\n",
            "        [103., 119.],\n",
            "        [ 56.,  70.],\n",
            "        [ 81., 101.],\n",
            "        [119., 133.],\n",
            "        [ 22.,  37.],\n",
            "        [103., 119.]])\n"
          ]
        }
      ]
    },
    {
      "cell_type": "markdown",
      "source": [
        "# Dataset and DataLoder"
      ],
      "metadata": {
        "id": "E95m8d8TCG-P"
      }
    },
    {
      "cell_type": "code",
      "source": [
        "# Import tensor dataset & data loader\n",
        "from torch.utils.data import TensorDataset, DataLoader\n",
        "\n",
        "# Define dataset\n",
        "train_ds = TensorDataset(inputs, targets)\n",
        "train_ds[0:3]\n",
        "\n",
        "# Define data loader\n",
        "batch_size = 5\n",
        "train_dl = DataLoader(train_ds, batch_size, shuffle=True)\n",
        "next(iter(train_dl))"
      ],
      "metadata": {
        "colab": {
          "base_uri": "https://localhost:8080/"
        },
        "id": "TDq3lfQPClmE",
        "outputId": "5c397653-a41b-4af9-dc89-ad58200f281c"
      },
      "execution_count": null,
      "outputs": [
        {
          "output_type": "execute_result",
          "data": {
            "text/plain": [
              "[tensor([[ 91.,  88.,  64.],\n",
              "         [102.,  43.,  37.],\n",
              "         [ 73.,  67.,  43.],\n",
              "         [ 87., 134.,  58.],\n",
              "         [ 87., 134.,  58.]]), tensor([[ 81., 101.],\n",
              "         [ 22.,  37.],\n",
              "         [ 56.,  70.],\n",
              "         [119., 133.],\n",
              "         [119., 133.]])]"
            ]
          },
          "metadata": {},
          "execution_count": 79
        }
      ]
    },
    {
      "cell_type": "markdown",
      "source": [
        "# nn.Linear"
      ],
      "metadata": {
        "id": "is54FUACD7fN"
      }
    },
    {
      "cell_type": "code",
      "source": [
        "# Define model\n",
        "model = nn.Linear(3, 2)\n",
        "print(model.weight)\n",
        "print(model.bias)"
      ],
      "metadata": {
        "colab": {
          "base_uri": "https://localhost:8080/"
        },
        "id": "K8eRDIjZD95M",
        "outputId": "2cda0508-39b5-44ee-c3cb-ff3597d032f0"
      },
      "execution_count": null,
      "outputs": [
        {
          "output_type": "stream",
          "name": "stdout",
          "text": [
            "Parameter containing:\n",
            "tensor([[-0.0447,  0.3476,  0.0277],\n",
            "        [-0.5276,  0.1781, -0.4661]], requires_grad=True)\n",
            "Parameter containing:\n",
            "tensor([ 0.4055, -0.0741], requires_grad=True)\n"
          ]
        }
      ]
    },
    {
      "cell_type": "markdown",
      "source": [
        "#Optimizer"
      ],
      "metadata": {
        "id": "s-POKrMIEZCT"
      }
    },
    {
      "cell_type": "code",
      "source": [
        "# Define optimizer use instead of gradient\n",
        "opt = torch.optim.SGD(model.parameters(), lr=1e-5)\n",
        "print(opt)"
      ],
      "metadata": {
        "colab": {
          "base_uri": "https://localhost:8080/"
        },
        "id": "QD0J8Dq_Eajy",
        "outputId": "0bd514b4-e377-4e1b-b594-3070105c8514"
      },
      "execution_count": null,
      "outputs": [
        {
          "output_type": "stream",
          "name": "stdout",
          "text": [
            "SGD (\n",
            "Parameter Group 0\n",
            "    dampening: 0\n",
            "    differentiable: False\n",
            "    foreach: None\n",
            "    lr: 1e-05\n",
            "    maximize: False\n",
            "    momentum: 0\n",
            "    nesterov: False\n",
            "    weight_decay: 0\n",
            ")\n"
          ]
        }
      ]
    },
    {
      "cell_type": "markdown",
      "source": [
        "# Loss Function"
      ],
      "metadata": {
        "id": "pNlaxBMmEx5r"
      }
    },
    {
      "cell_type": "code",
      "source": [
        "# Import nn.functional\n",
        "import torch.nn.functional as F\n",
        "\n",
        "# Define loss function\n",
        "loss_fn = F.mse_loss\n",
        "\n",
        "loss = loss_fn(model(inputs), targets)\n",
        "print(loss)"
      ],
      "metadata": {
        "colab": {
          "base_uri": "https://localhost:8080/"
        },
        "id": "W-n5XjTXEzaR",
        "outputId": "9feac3c2-ba14-4d19-a1d0-1e71549f4ea6"
      },
      "execution_count": null,
      "outputs": [
        {
          "output_type": "stream",
          "name": "stdout",
          "text": [
            "tensor(12728.0439, grad_fn=<MseLossBackward0>)\n"
          ]
        }
      ]
    },
    {
      "cell_type": "markdown",
      "source": [
        "# Train Model"
      ],
      "metadata": {
        "id": "33XV186JE7m9"
      }
    },
    {
      "cell_type": "code",
      "source": [
        "# Define a utility function to train the model\n",
        "def fit(num_epochs, model, loss_fn, opt):\n",
        "    for epoch in range(num_epochs):\n",
        "        for xb,yb in train_dl:\n",
        "            # Generate predictions\n",
        "            pred = model(xb)\n",
        "            loss = loss_fn(pred, yb)\n",
        "            # Perform gradient descent\n",
        "            loss.backward()\n",
        "            opt.step()\n",
        "            opt.zero_grad()\n",
        "    print('Training loss: ', loss_fn(model(inputs), targets))\n",
        "\n",
        "# Train the model for 100 epochs\n",
        "fit(100, model, loss_fn, opt)\n",
        "\n",
        "# Generate predictions\n",
        "preds = model(inputs)\n",
        "print(\"Pred: \",preds)\n",
        "print(\"Target: \", targets)"
      ],
      "metadata": {
        "colab": {
          "base_uri": "https://localhost:8080/"
        },
        "id": "i7ynOGDDE84K",
        "outputId": "9a5e44c9-1c24-41d0-8dec-f5330a74d58b"
      },
      "execution_count": null,
      "outputs": [
        {
          "output_type": "stream",
          "name": "stdout",
          "text": [
            "Training loss:  tensor(35.9542, grad_fn=<MseLossBackward0>)\n",
            "Pred:  tensor([[ 58.3648,  71.3934],\n",
            "        [ 80.3055,  96.0903],\n",
            "        [121.6284, 142.3134],\n",
            "        [ 26.9594,  42.3059],\n",
            "        [ 95.2235, 108.0204],\n",
            "        [ 58.3648,  71.3934],\n",
            "        [ 80.3055,  96.0903],\n",
            "        [121.6284, 142.3134],\n",
            "        [ 26.9594,  42.3059],\n",
            "        [ 95.2235, 108.0204],\n",
            "        [ 58.3648,  71.3934],\n",
            "        [ 80.3055,  96.0903],\n",
            "        [121.6284, 142.3134],\n",
            "        [ 26.9594,  42.3059],\n",
            "        [ 95.2235, 108.0204]], grad_fn=<AddmmBackward0>)\n",
            "Target:  tensor([[ 56.,  70.],\n",
            "        [ 81., 101.],\n",
            "        [119., 133.],\n",
            "        [ 22.,  37.],\n",
            "        [103., 119.],\n",
            "        [ 56.,  70.],\n",
            "        [ 81., 101.],\n",
            "        [119., 133.],\n",
            "        [ 22.,  37.],\n",
            "        [103., 119.],\n",
            "        [ 56.,  70.],\n",
            "        [ 81., 101.],\n",
            "        [119., 133.],\n",
            "        [ 22.,  37.],\n",
            "        [103., 119.]])\n"
          ]
        }
      ]
    },
    {
      "cell_type": "code",
      "source": [
        "# Train the model for 100 epochs\n",
        "fit(100, model, loss_fn, opt)\n",
        "\n",
        "# Generate predictions\n",
        "preds = model(inputs)\n",
        "print(\"Pred: \",preds)"
      ],
      "metadata": {
        "colab": {
          "base_uri": "https://localhost:8080/"
        },
        "id": "IkzOhOWiFp5N",
        "outputId": "7376ed06-f988-4c07-efdc-6f3367dcf929"
      },
      "execution_count": null,
      "outputs": [
        {
          "output_type": "stream",
          "name": "stdout",
          "text": [
            "Training loss:  tensor(18.6596, grad_fn=<MseLossBackward0>)\n",
            "Pred:  tensor([[ 57.4785,  70.6914],\n",
            "        [ 80.2104,  96.7837],\n",
            "        [122.1619, 140.4599],\n",
            "        [ 22.7382,  39.4581],\n",
            "        [ 97.6016, 110.9904],\n",
            "        [ 57.4785,  70.6914],\n",
            "        [ 80.2104,  96.7837],\n",
            "        [122.1619, 140.4599],\n",
            "        [ 22.7382,  39.4581],\n",
            "        [ 97.6016, 110.9904],\n",
            "        [ 57.4785,  70.6914],\n",
            "        [ 80.2104,  96.7837],\n",
            "        [122.1619, 140.4599],\n",
            "        [ 22.7382,  39.4581],\n",
            "        [ 97.6016, 110.9904]], grad_fn=<AddmmBackward0>)\n"
          ]
        }
      ]
    },
    {
      "cell_type": "code",
      "source": [
        "# 1. Estimate the value of model parameters(weights and bias) and MSE Loss after training for 1000 epochs.\n",
        "\n",
        "for i in range(1000):\n",
        "    output_pred = model(input_torch)\n",
        "    loss = MSE(output_pred, output_torch)\n",
        "    loss.backward()\n",
        "    with torch.no_grad():\n",
        "      rand_weight -= rand_weight.grad * 1e-5\n",
        "      # rand_weight -= rand_weight.grad * 0.0000001\n",
        "      rand_bais -= rand_bais.grad * 1e-5\n",
        "      # rand_bais -= rand_bais.grad * 0.0000001\n",
        "      rand_weight.grad.zero_()\n",
        "      rand_bais.grad.zero_()\n",
        "\n",
        "# Calculate loss\n",
        "output_pred = model(input_torch)\n",
        "loss = MSE(output_pred, output_torch)\n",
        "print(\"rand_weight: \", rand_weight)\n",
        "print(\"rand_bias: \", rand_bais)\n",
        "print(\"Loss: \",loss)\n",
        "\n",
        "# print(\"output_pred: \", output_pred)\n",
        "# print(\"output_torch: \", output_torch)"
      ],
      "metadata": {
        "colab": {
          "base_uri": "https://localhost:8080/"
        },
        "id": "V7IMr0fucsKF",
        "outputId": "bbfb9068-4904-4e54-926b-329ff97ab1f8"
      },
      "execution_count": null,
      "outputs": [
        {
          "output_type": "stream",
          "name": "stdout",
          "text": [
            "rand_weight:  tensor([[-0.1954,  0.7428,  0.5404]], requires_grad=True)\n",
            "rand_bias:  tensor([[0.6989],\n",
            "        [0.4206],\n",
            "        [0.9784],\n",
            "        [0.2042],\n",
            "        [0.0069]], requires_grad=True)\n",
            "Loss:  tensor(133.6618, grad_fn=<DivBackward0>)\n"
          ]
        }
      ]
    },
    {
      "cell_type": "code",
      "source": [
        "#4 Graph\n",
        "import numpy as np\n",
        "for i in range(100):\n",
        "    output_pred = model(input_torch)\n",
        "    loss = MSE(output_pred, output_torch)\n",
        "    loss.backward()\n",
        "    with torch.no_grad():\n",
        "      rand_weight -= rand_weight.grad * 1e-5\n",
        "      # rand_weight -= rand_weight.grad * 0.0000001\n",
        "      rand_bais -= rand_bais.grad * 1e-5\n",
        "      # rand_bais -= rand_bais.grad * 0.0000001\n",
        "      rand_weight.grad.zero_()\n",
        "      rand_bais.grad.zero_()\n",
        "\n",
        "loss1 = MSE(output_pred, output_torch)\n",
        "\n",
        "for i in range(200):\n",
        "    output_pred = model(input_torch)\n",
        "    loss = MSE(output_pred, output_torch)\n",
        "    loss.backward()\n",
        "    with torch.no_grad():\n",
        "      rand_weight -= rand_weight.grad * 1e-5\n",
        "      # rand_weight -= rand_weight.grad * 0.0000001\n",
        "      rand_bais -= rand_bais.grad * 1e-5\n",
        "      # rand_bais -= rand_bais.grad * 0.0000001\n",
        "      rand_weight.grad.zero_()\n",
        "      rand_bais.grad.zero_()\n",
        "\n",
        "loss2 = MSE(output_pred, output_torch)\n",
        "\n",
        "for i in range(300):\n",
        "    output_pred = model(input_torch)\n",
        "    loss = MSE(output_pred, output_torch)\n",
        "    loss.backward()\n",
        "    with torch.no_grad():\n",
        "      rand_weight -= rand_weight.grad * 1e-5\n",
        "      # rand_weight -= rand_weight.grad * 0.0000001\n",
        "      rand_bais -= rand_bais.grad * 1e-5\n",
        "      # rand_bais -= rand_bais.grad * 0.0000001\n",
        "      rand_weight.grad.zero_()\n",
        "      rand_bais.grad.zero_()\n",
        "\n",
        "loss3 = MSE(output_pred, output_torch)\n",
        "\n",
        "for i in range(400):\n",
        "    output_pred = model(input_torch)\n",
        "    loss = MSE(output_pred, output_torch)\n",
        "    loss.backward()\n",
        "    with torch.no_grad():\n",
        "      rand_weight -= rand_weight.grad * 1e-5\n",
        "      # rand_weight -= rand_weight.grad * 0.0000001\n",
        "      rand_bais -= rand_bais.grad * 1e-5\n",
        "      # rand_bais -= rand_bais.grad * 0.0000001\n",
        "      rand_weight.grad.zero_()\n",
        "      rand_bais.grad.zero_()\n",
        "\n",
        "loss4 = MSE(output_pred, output_torch)\n",
        "\n",
        "for i in range(500):\n",
        "    output_pred = model(input_torch)\n",
        "    loss = MSE(output_pred, output_torch)\n",
        "    loss.backward()\n",
        "    with torch.no_grad():\n",
        "      rand_weight -= rand_weight.grad * 1e-5\n",
        "      # rand_weight -= rand_weight.grad * 0.0000001\n",
        "      rand_bais -= rand_bais.grad * 1e-5\n",
        "      # rand_bais -= rand_bais.grad * 0.0000001\n",
        "      rand_weight.grad.zero_()\n",
        "      rand_bais.grad.zero_()\n",
        "\n",
        "loss5 = MSE(output_pred, output_torch)\n",
        "\n",
        "x = np.array([100,200,300,400,500])\n",
        "import torch\n",
        "y = torch.tensor([loss1, loss2, loss3, loss4, loss5])\n",
        "y = y.numpy()\n",
        "import matplotlib.pyplot as plt\n",
        "\n",
        "plt.plot(x, y)\n",
        "  \n",
        "plt.xlabel('No of echops')\n",
        "plt.ylabel('loss')\n",
        "plt.title('echops vs loss')\n",
        "plt.show()"
      ],
      "metadata": {
        "id": "pG-0QuUxxEnW"
      },
      "execution_count": null,
      "outputs": []
    },
    {
      "cell_type": "code",
      "source": [
        "# 5. Use the model to predict crop yield for apples if temperature is 70, Rain is 34 and Humidity is 45.\n",
        "\n",
        "input = np.array([[70, 34, 45]], dtype='float32')\n",
        "input = torch.from_numpy(input)\n",
        "\n",
        "output = model(input)\n",
        "print(\"Output: \",output.mean())"
      ],
      "metadata": {
        "colab": {
          "base_uri": "https://localhost:8080/"
        },
        "id": "Eg_OykJPJyiZ",
        "outputId": "e68b4674-8d8f-4ca7-ab53-c6588479bf18"
      },
      "execution_count": null,
      "outputs": [
        {
          "output_type": "stream",
          "name": "stdout",
          "text": [
            "Output:  tensor(33.9009, grad_fn=<MeanBackward0>)\n"
          ]
        }
      ]
    }
  ]
}
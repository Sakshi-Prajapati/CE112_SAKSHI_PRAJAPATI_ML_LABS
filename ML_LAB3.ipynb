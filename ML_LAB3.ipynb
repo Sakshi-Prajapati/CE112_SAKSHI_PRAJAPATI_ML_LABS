{
  "cells": [
    {
      "cell_type": "markdown",
      "metadata": {
        "id": "view-in-github",
        "colab_type": "text"
      },
      "source": [
        "<a href=\"https://colab.research.google.com/github/Sakshi-Prajapati/ML_LABS/blob/main/ML_LAB3.ipynb\" target=\"_parent\"><img src=\"https://colab.research.google.com/assets/colab-badge.svg\" alt=\"Open In Colab\"/></a>"
      ]
    },
    {
      "cell_type": "markdown",
      "metadata": {
        "id": "gDQmlCa4L8Hp"
      },
      "source": [
        "**Implement Naive Bayes classifier : Weather Example**"
      ]
    },
    {
      "cell_type": "code",
      "execution_count": null,
      "metadata": {
        "colab": {
          "base_uri": "https://localhost:8080/"
        },
        "id": "iH3lGO1EL1ZM",
        "outputId": "c84c7a6e-c7a9-48e2-8e19-404b88c74b3b"
      },
      "outputs": [
        {
          "name": "stdout",
          "output_type": "stream",
          "text": [
            "Weather: [2 2 0 1 1 1 0 2 2 1 2 0 0 1]\n",
            "Temp: [1 1 1 2 0 0 0 2 0 2 2 2 1 2]\n",
            "Play: [0 0 1 1 1 0 1 0 1 1 1 1 1 0]\n",
            "Features: ((2, 1), (2, 1), (0, 1), (1, 2), (1, 0), (1, 0), (0, 0), (2, 2), (2, 0), (1, 2), (2, 2), (0, 2), (0, 1), (1, 2))\n",
            "Predicted Value: [1]\n",
            "Predicted Value: [1]\n",
            "Predicted Value: [1]\n"
          ]
        }
      ],
      "source": [
        "from sklearn import preprocessing\n",
        "from sklearn.naive_bayes import GaussianNB, MultinomialNB\n",
        "\n",
        "weather = ['Sunny', 'Sunny', 'Overcast', 'Rainy', 'Rainy','Rainy', 'Overcast','Sunny', 'Sunny', 'Rainy', 'Sunny', 'Overcast', 'Overcast', 'Rainy']\n",
        "\n",
        "temp = ['Hot','Hot','Hot','Mild','Cool','Cool','Cool','Mild','Cool','Mild','Mild','Mild','Hot','Mild']\n",
        "\n",
        "play=['No','No','Yes','Yes','Yes','No','Yes','No','Yes','Yes','Yes','Yes','Yes','No']\n",
        "\n",
        "#creating labelEncoder\n",
        "#overcast = 0 , rainy =1 ,sunny=2\n",
        "le = preprocessing.LabelEncoder()\n",
        "\n",
        "# Converting string labels into numbers.\n",
        "weather_encoded=le.fit_transform(weather)\n",
        "temp_encoded=le.fit_transform(temp)\n",
        "label=le.fit_transform(play)\n",
        "\n",
        "print(\"Weather:\" ,weather_encoded)\n",
        "print(\"Temp:\",temp_encoded)\n",
        "print(\"Play:\",label)\n",
        "\n",
        "#features weather temp\n",
        "features=tuple(zip(weather_encoded,temp_encoded))\n",
        "print(\"Features:\",features)\n",
        "\n",
        "model=MultinomialNB()\n",
        "model.fit(features,label)\n",
        "\n",
        "predicted= model.predict([[0,2]]) # 0:Overcast, 2:Mild\n",
        "print(\"Predicted Value:\", predicted)\n",
        "\n",
        "predicted= model.predict([[0,1]]) # 0:Overcast, 1:Hot\n",
        "print(\"Predicted Value:\", predicted)\n",
        "\n",
        "predicted= model.predict([[2,2]]) # 2:Sunny, 2:Mild\n",
        "print(\"Predicted Value:\", predicted)\n",
        "\n"
      ]
    },
    {
      "cell_type": "markdown",
      "metadata": {
        "id": "gvvOmQR1NMj0"
      },
      "source": [
        "**2_NB_Classifier_Iris_2Classes**"
      ]
    },
    {
      "cell_type": "code",
      "execution_count": null,
      "metadata": {
        "id": "2hzSEKBDNP9i"
      },
      "outputs": [],
      "source": [
        "import numpy as np\n",
        "from sklearn import datasets\n",
        "from sklearn.naive_bayes import GaussianNB\n",
        "\n",
        "iris = datasets.load_iris()\n",
        "print(iris)\n",
        "\n",
        "print(\"Features: \", iris.feature_names)\n",
        "print(\"Labels: \", iris.target_names)\n",
        "print(\"\\nData shape: \",iris.data.shape)\n",
        "print(\"\\nTraget shape: \",iris.target.shape)\n",
        "print(\"\\nData type: \",type(iris.data))\n",
        "\n",
        "\n",
        "newdata = iris.data[50:,:]\n",
        "newtarget = iris.target[50:]\n",
        "\n",
        "print(\"\\nNew Data shape: \",newdata.shape)\n",
        "#print data(target)shape\n",
        "print(\"\\nNew Traget shape: \",newtarget.shape)\n"
      ]
    },
    {
      "cell_type": "code",
      "execution_count": null,
      "metadata": {
        "colab": {
          "base_uri": "https://localhost:8080/"
        },
        "id": "rfDKEgltOOkF",
        "outputId": "4c280111-aeb9-465d-97d6-9ef5b9874e33"
      },
      "outputs": [
        {
          "name": "stdout",
          "output_type": "stream",
          "text": [
            "Accuracy: 0.9\n",
            "confusion_matrix\n",
            "[[16  1]\n",
            " [ 2 11]]\n",
            "precision: 0.8888888888888888\n",
            "recall: 0.9411764705882353\n"
          ]
        }
      ],
      "source": [
        "from sklearn.model_selection import train_test_split\n",
        "#split data set into train and test sets\n",
        "\n",
        "data_train, data_test, target_train, target_test = train_test_split(newdata,\n",
        "newtarget, test_size = 0.30, random_state = 5)\n",
        "\n",
        "import numpy as np\n",
        "gnb = GaussianNB()\n",
        "#Train the model using the training sets\n",
        "gnb.fit(data_train, target_train)\n",
        "#Predict the response for test dataset\n",
        "target_pred = gnb.predict(data_test)\n",
        "\n",
        "from sklearn import metrics\n",
        "# Model Accuracy, how often is the classifier correct?\n",
        "print(\"Accuracy:\",metrics.accuracy_score(target_test, target_pred))\n",
        "\n",
        "from sklearn.metrics import confusion_matrix\n",
        "print(\"confusion_matrix\")\n",
        "print(confusion_matrix(target_test, target_pred))\n",
        "\n",
        "\n",
        "\n",
        "from sklearn.metrics import precision_score\n",
        "from sklearn.metrics import recall_score\n",
        "precision = precision_score(target_test, target_pred)\n",
        "recall = recall_score(target_test, target_pred)\n",
        "print('precision: {}'.format(precision))\n",
        "print('recall: {}'.format(recall))\n"
      ]
    },
    {
      "cell_type": "markdown",
      "metadata": {
        "id": "ja_zN-2RO0Tw"
      },
      "source": [
        "**3_NB_Classifier_Iris_3Classes**"
      ]
    },
    {
      "cell_type": "code",
      "execution_count": null,
      "metadata": {
        "colab": {
          "base_uri": "https://localhost:8080/"
        },
        "id": "7cAEPD7tO18G",
        "outputId": "1784e1ac-781c-4d95-d553-84178f4e1fb1"
      },
      "outputs": [
        {
          "name": "stdout",
          "output_type": "stream",
          "text": [
            "Features:  ['sepal length (cm)', 'sepal width (cm)', 'petal length (cm)', 'petal width (cm)']\n",
            "Labels:  ['setosa' 'versicolor' 'virginica']\n",
            "Accuracy: 1.0\n",
            "confusion_matrix\n",
            "[[14  0  0]\n",
            " [ 0 17  0]\n",
            " [ 0  0 14]]\n",
            "precision: [1. 1. 1.]\n",
            "recall: [1. 1. 1.]\n"
          ]
        }
      ],
      "source": [
        "import numpy as np\n",
        "from sklearn import datasets\n",
        "from sklearn.naive_bayes import GaussianNB\n",
        "\n",
        "iris = datasets.load_iris()\n",
        "# print(iris)\n",
        "\n",
        "print(\"Features: \", iris.feature_names)\n",
        "print(\"Labels: \", iris.target_names)\n",
        "iris.data.shape\n",
        "\n",
        "from sklearn.model_selection import train_test_split\n",
        "#split data set into train and test sets\n",
        "\n",
        "data_train, data_test, target_train, target_test = train_test_split(iris.data,iris.target, test_size = 0.30, random_state = 10)\n",
        "\n",
        "import numpy as np\n",
        "gnb = GaussianNB()\n",
        "#Train the model using the training sets\n",
        "gnb.fit(data_train, target_train)\n",
        "#Predict the response for test dataset\n",
        "target_pred = gnb.predict(data_test)\n",
        "\n",
        "from sklearn import metrics\n",
        "# Model Accuracy, how often is the classifier correct?\n",
        "print(\"Accuracy:\",metrics.accuracy_score(target_test, target_pred))\n",
        "\n",
        "from sklearn.metrics import confusion_matrix\n",
        "print(\"confusion_matrix\")\n",
        "print(confusion_matrix(target_test, target_pred))\n",
        "\n",
        "\n",
        "from sklearn.metrics import precision_score\n",
        "from sklearn.metrics import recall_score\n",
        "precision = precision_score(target_test, target_pred,average=None)\n",
        "recall = recall_score(target_test, target_pred,average=None)\n",
        "print('precision: {}'.format(precision))\n",
        "print('recall: {}'.format(recall))\n"
      ]
    },
    {
      "cell_type": "markdown",
      "metadata": {
        "id": "ODWuRUlfNGdE"
      },
      "source": [
        "**Task 1**"
      ]
    },
    {
      "cell_type": "code",
      "execution_count": null,
      "metadata": {
        "colab": {
          "base_uri": "https://localhost:8080/"
        },
        "id": "YDYwG6-9PXUs",
        "outputId": "ae71ebf1-a816-465f-b2f2-0aa594c64e30"
      },
      "outputs": [
        {
          "output_type": "stream",
          "name": "stdout",
          "text": [
            "0     0\n",
            "1     0\n",
            "2     1\n",
            "3     1\n",
            "4     1\n",
            "5     0\n",
            "6     1\n",
            "7     0\n",
            "8     1\n",
            "9     1\n",
            "10    0\n",
            "11    1\n",
            "12    1\n",
            "13    0\n",
            "Name: Class, dtype: int64\n",
            "    0  1  2\n",
            "0   0  1  0\n",
            "1   0  0  1\n",
            "2   0  1  0\n",
            "3   0  1  0\n",
            "4   0  1  0\n",
            "5   1  0  0\n",
            "6   0  1  0\n",
            "7   0  1  0\n",
            "8   1  0  0\n",
            "9   0  0  1\n",
            "10  0  0  1\n",
            "11  1  0  0\n",
            "12  0  1  0\n",
            "13  0  1  0\n",
            "    O  R  S  C  H  M  F  T  0  1  2\n",
            "9   0  0  1  0  0  1  1  0  0  0  1\n",
            "6   1  0  0  1  0  0  0  1  0  1  0\n",
            "0   0  1  0  0  1  0  1  0  0  1  0\n",
            "12  1  0  0  0  1  0  1  0  0  1  0\n",
            "5   1  0  0  1  0  0  0  1  1  0  0\n",
            "13  0  0  1  0  0  1  0  1  0  1  0\n",
            "1   0  1  0  0  1  0  0  1  0  0  1\n",
            "10  0  1  0  1  0  0  0  1  0  0  1\n",
            "8   1  0  0  1  0  0  1  0  1  0  0\n",
            "11  1  0  0  0  0  1  0  1  1  0  0\n",
            "4   0  0  1  1  0  0  1  0  0  1  0\n",
            "\n",
            "data_test:    O  R  S  C  H  M  F  T  0  1  2\n",
            "3  0  1  0  0  0  1  1  0  0  1  0\n",
            "7  0  1  0  0  0  1  1  0  0  1  0\n",
            "2  1  0  0  0  1  0  1  0  0  1  0\n",
            "Accuracy: 0.6666666666666666\n",
            "confusion_matrix\n",
            "[[1 0]\n",
            " [1 1]]\n",
            "precision: [0.5 1. ]\n",
            "recall: [1.  0.5]\n"
          ]
        },
        {
          "output_type": "stream",
          "name": "stderr",
          "text": [
            "/usr/local/lib/python3.8/dist-packages/sklearn/utils/validation.py:1688: FutureWarning: Feature names only support names that are all strings. Got feature names with dtypes: ['int', 'str']. An error will be raised in 1.2.\n",
            "  warnings.warn(\n",
            "/usr/local/lib/python3.8/dist-packages/sklearn/utils/validation.py:1688: FutureWarning: Feature names only support names that are all strings. Got feature names with dtypes: ['int', 'str']. An error will be raised in 1.2.\n",
            "  warnings.warn(\n"
          ]
        }
      ],
      "source": [
        "# Exercise\n",
        "import numpy as np\n",
        "import pandas as pd\n",
        "from sklearn import datasets\n",
        "from sklearn.naive_bayes import GaussianNB\n",
        "from sklearn.preprocessing import LabelEncoder,OneHotEncoder\n",
        "from sklearn.model_selection import train_test_split\n",
        "from sklearn import metrics\n",
        "from sklearn.metrics import confusion_matrix\n",
        "from sklearn.metrics import precision_score\n",
        "from sklearn.metrics import recall_score\n",
        "\n",
        "dataset = pd.read_csv('/content/Dataset3.csv')\n",
        "\n",
        "data = pd.DataFrame(dataset)\n",
        "# X = dataSet.drop(columns=['Purchased'])\n",
        "y = data['Class']\n",
        "print(y)\n",
        "\n",
        "x1 = pd.get_dummies(dataset.Outlook)\n",
        "x2 = pd.get_dummies(dataset.Temp)\n",
        "x3 = pd.get_dummies(dataset.Wind)\n",
        "x4 = pd.get_dummies(dataset.Humidity)\n",
        "\n",
        "\n",
        "print(x4)\n",
        "\n",
        "# print(x1)\n",
        "\n",
        "data = pd.concat([x1,x2,x3,x4],axis='columns')\n",
        "\n",
        "data_train, data_test, target_train, target_test = train_test_split(data,y,test_size = 0.15, random_state = 112)\n",
        "\n",
        "print(data_train)\n",
        "print(\"\\ndata_test:\",data_test)\n",
        "\n",
        "gnb = GaussianNB()\n",
        "#Train the model using the training sets\n",
        "gnb.fit(data_train, target_train)\n",
        "#Predict the response for test dataset\n",
        "target_pred = gnb.predict(data_test)\n",
        "# target_pred = gnb.predict([[0,1,0,0,0,1,1,0,0,0,1]])\n",
        "# target_pred = gnb.predict([[0,0,1,1,0,0,1,0,1,0,0]])\n",
        "# O  R  S  C  H  M  F  T  0  1  2\n",
        "# print(target_pred)\n",
        "\n",
        "\n",
        "# Model Accuracy, how often is the classifier correct?\n",
        "print(\"Accuracy:\",metrics.accuracy_score(target_test, target_pred))\n",
        "\n",
        "print(\"confusion_matrix\")\n",
        "print(confusion_matrix(target_test, target_pred))\n",
        "\n",
        "precision = precision_score(target_test, target_pred,average=None)\n",
        "recall = recall_score(target_test, target_pred,average=None)\n",
        "print('precision: {}'.format(precision))\n",
        "print('recall: {}'.format(recall))\n",
        "\n",
        "\n",
        "# print(data)\n",
        "# dataset.shape\n",
        "\n",
        "# pd.get_dummies(dataset).shape\n",
        "\n",
        "# print(dataset)\n",
        "# #Use One Hot Encoder from scikit learn\n",
        "# onehotencoder = OneHotEncoder()\n",
        "# #reshape the 1-D country array to 2-D as fit_transform expects 2-D and finally fit the␣,→object\n",
        "# x1 = onehotencoder.fit_transform(dataset.Outlook.values.reshape(-1,1)).toarray()\n",
        "# x2 = onehotencoder.fit_transform(dataset.Temp.values.reshape(-1,1)).toarray()\n",
        "# x3 = onehotencoder.fit_transform(dataset.Wind.values.reshape(-1,1)).toarray()\n",
        "# x4 = onehotencoder.fit_transform(dataset.Humidity.values.reshape(-1,1)).toarray()\n",
        "\n",
        "# print(x1);\n",
        "# print(x2);\n",
        "# print(x3);\n",
        "# print(x4);\n",
        "\n",
        "# features=tuple(zip(x1,x2,x3,x4))\n",
        "# print(features)\n",
        "\n",
        "\n"
      ]
    },
    {
      "cell_type": "markdown",
      "metadata": {
        "id": "tSwgmgByM_PQ"
      },
      "source": [
        "**Task 2**"
      ]
    },
    {
      "cell_type": "code",
      "execution_count": null,
      "metadata": {
        "colab": {
          "base_uri": "https://localhost:8080/"
        },
        "id": "_y-jcYhS-Qpa",
        "outputId": "7d620908-6244-47c6-c25b-9713d16e5b72"
      },
      "outputs": [
        {
          "output_type": "stream",
          "name": "stdout",
          "text": [
            "        0     1     2     3      4     5     6     7     8      9     10  \\\n",
            "0    14.23  1.71  2.43  15.6  127.0  2.80  3.06  0.28  2.29   5.64  1.04   \n",
            "1    13.20  1.78  2.14  11.2  100.0  2.65  2.76  0.26  1.28   4.38  1.05   \n",
            "2    13.16  2.36  2.67  18.6  101.0  2.80  3.24  0.30  2.81   5.68  1.03   \n",
            "3    14.37  1.95  2.50  16.8  113.0  3.85  3.49  0.24  2.18   7.80  0.86   \n",
            "4    13.24  2.59  2.87  21.0  118.0  2.80  2.69  0.39  1.82   4.32  1.04   \n",
            "..     ...   ...   ...   ...    ...   ...   ...   ...   ...    ...   ...   \n",
            "173  13.71  5.65  2.45  20.5   95.0  1.68  0.61  0.52  1.06   7.70  0.64   \n",
            "174  13.40  3.91  2.48  23.0  102.0  1.80  0.75  0.43  1.41   7.30  0.70   \n",
            "175  13.27  4.28  2.26  20.0  120.0  1.59  0.69  0.43  1.35  10.20  0.59   \n",
            "176  13.17  2.59  2.37  20.0  120.0  1.65  0.68  0.53  1.46   9.30  0.60   \n",
            "177  14.13  4.10  2.74  24.5   96.0  2.05  0.76  0.56  1.35   9.20  0.61   \n",
            "\n",
            "       11      12  \n",
            "0    3.92  1065.0  \n",
            "1    3.40  1050.0  \n",
            "2    3.17  1185.0  \n",
            "3    3.45  1480.0  \n",
            "4    2.93   735.0  \n",
            "..    ...     ...  \n",
            "173  1.74   740.0  \n",
            "174  1.56   750.0  \n",
            "175  1.56   835.0  \n",
            "176  1.62   840.0  \n",
            "177  1.60   560.0  \n",
            "\n",
            "[178 rows x 13 columns]\n",
            "0     0\n",
            "1     0\n",
            "2     1\n",
            "3     1\n",
            "4     1\n",
            "5     0\n",
            "6     1\n",
            "7     0\n",
            "8     1\n",
            "9     1\n",
            "10    0\n",
            "11    1\n",
            "12    1\n",
            "13    0\n",
            "Name: Class, dtype: int64\n",
            "['alcohol', 'malic_acid', 'ash', 'alcalinity_of_ash', 'magnesium', 'total_phenols', 'flavanoids', 'nonflavanoid_phenols', 'proanthocyanins', 'color_intensity', 'hue', 'od280/od315_of_diluted_wines', 'proline']\n",
            "['class_0' 'class_1' 'class_2']\n",
            "\n",
            "\n",
            "data:  [(112, 117, 69, 55, 17, 42, 20, 33, 35, 119, 8, 40), (63, 71, 63, 32, 22, 73, 115, 13, 96, 83, 48, 101), (52, 20, 35, 29, 41, 14, 33, 5, 14, 49, 21, 51), (92, 131, 46, 42, 16, 23, 12, 30, 22, 108, 10, 67), (32, 78, 30, 48, 11, 23, 53, 38, 41, 18, 30, 3), (92, 53, 37, 19, 22, 64, 95, 10, 59, 41, 56, 90), (96, 45, 42, 13, 10, 63, 91, 12, 65, 80, 59, 113), (93, 24, 49, 20, 29, 92, 126, 3, 80, 98, 33, 109), (106, 41, 16, 13, 22, 84, 120, 5, 83, 89, 36, 86), (5, 20, 66, 40, 15, 71, 99, 12, 92, 17, 41, 58), (22, 25, 52, 35, 25, 34, 50, 26, 19, 24, 76, 8), (83, 93, 67, 52, 18, 16, 6, 29, 2, 54, 33, 37), (55, 85, 66, 45, 17, 15, 4, 31, 7, 60, 22, 46), (81, 92, 60, 54, 42, 9, 43, 6, 29, 114, 6, 33), (29, 75, 47, 45, 19, 62, 62, 17, 33, 20, 25, 23), (79, 40, 61, 49, 10, 63, 30, 30, 87, 130, 4, 49), (59, 38, 54, 29, 19, 56, 76, 12, 43, 51, 57, 97), (27, 93, 24, 29, 9, 75, 103, 26, 96, 10, 75, 15), (45, 51, 23, 33, 7, 46, 81, 9, 64, 44, 60, 62), (64, 81, 38, 40, 39, 22, 16, 31, 45, 120, 7, 75), (107, 45, 30, 25, 29, 77, 123, 15, 81, 117, 57, 105), (40, 76, 23, 31, 15, 20, 15, 37, 14, 101, 18, 60), (26, 126, 53, 45, 10, 7, 1, 31, 8, 43, 20, 64), (48, 70, 41, 54, 19, 2, 29, 10, 10, 84, 12, 40), (42, 5, 27, 29, 20, 46, 56, 13, 45, 16, 66, 24), (74, 79, 36, 40, 10, 9, 4, 19, 4, 80, 16, 71), (103, 20, 30, 13, 19, 81, 110, 6, 68, 103, 46, 91), (51, 96, 56, 48, 27, 22, 11, 35, 16, 79, 31, 43), (17, 29, 43, 48, 7, 11, 33, 29, 54, 38, 50, 24), (59, 109, 35, 49, 6, 22, 45, 36, 53, 63, 28, 36), (44, 110, 41, 51, 22, 74, 82, 24, 73, 14, 63, 25), (58, 2, 2, 13, 7, 38, 59, 7, 45, 60, 63, 14), (103, 29, 63, 56, 7, 79, 94, 5, 70, 34, 73, 17), (86, 127, 36, 40, 13, 40, 22, 27, 18, 57, 36, 39), (63, 102, 19, 45, 23, 13, 7, 24, 32, 48, 7, 73), (7, 64, 47, 47, 5, 38, 49, 28, 35, 20, 45, 58), (59, 48, 15, 22, 28, 82, 104, 11, 79, 67, 32, 80), (43, 31, 29, 43, 2, 7, 41, 34, 53, 26, 41, 32), (71, 44, 18, 22, 15, 53, 66, 10, 35, 47, 47, 109), (9, 55, 7, 13, 18, 19, 43, 17, 26, 41, 66, 21), (69, 37, 73, 11, 30, 63, 88, 17, 36, 60, 54, 79), (31, 11, 20, 35, 8, 93, 108, 3, 70, 58, 65, 19), (102, 118, 39, 38, 10, 30, 23, 28, 50, 118, 4, 30), (91, 95, 53, 40, 28, 31, 8, 29, 8, 87, 41, 58), (116, 116, 45, 34, 31, 75, 87, 13, 29, 71, 31, 95), (26, 45, 16, 35, 2, 22, 59, 19, 54, 35, 45, 35), (11, 67, 71, 61, 13, 45, 68, 34, 63, 25, 42, 27), (53, 125, 48, 46, 7, 24, 14, 27, 12, 107, 1, 50), (37, 74, 21, 45, 9, 61, 71, 9, 27, 4, 34, 4), (1, 0, 49, 45, 9, 58, 58, 23, 43, 27, 55, 22), (44, 101, 37, 46, 27, 24, 31, 2, 11, 66, 23, 46), (120, 41, 66, 56, 19, 73, 36, 31, 94, 131, 4, 54), (0, 29, 23, 46, 6, 57, 65, 30, 78, 2, 77, 16), (98, 57, 64, 23, 34, 82, 93, 20, 58, 93, 58, 114), (80, 103, 22, 38, 9, 20, 2, 34, 13, 84, 26, 44), (38, 130, 61, 56, 17, 29, 11, 37, 23, 66, 27, 36), (20, 18, 33, 53, 0, 46, 45, 23, 38, 1, 52, 50), (101, 32, 60, 40, 34, 79, 121, 21, 62, 95, 58, 99), (45, 46, 31, 49, 5, 7, 51, 28, 54, 32, 32, 31), (124, 45, 40, 2, 12, 84, 127, 24, 96, 75, 68, 100), (21, 35, 34, 50, 11, 28, 49, 24, 50, 12, 72, 32), (26, 111, 23, 31, 32, 7, 21, 12, 25, 111, 11, 77), (75, 48, 60, 14, 14, 75, 100, 17, 44, 63, 37, 103), (55, 106, 62, 32, 23, 54, 75, 8, 76, 59, 48, 70), (64, 129, 35, 48, 14, 26, 13, 36, 49, 110, 7, 65), (59, 63, 77, 56, 43, 66, 88, 27, 72, 37, 58, 73), (67, 114, 32, 26, 24, 67, 85, 15, 57, 55, 27, 58), (32, 35, 22, 49, 29, 40, 61, 17, 52, 5, 51, 6), (123, 54, 46, 7, 17, 59, 80, 13, 76, 72, 47, 110), (109, 68, 59, 27, 40, 63, 79, 14, 29, 68, 51, 111), (84, 45, 47, 42, 35, 80, 92, 4, 91, 92, 43, 98), (78, 104, 58, 51, 31, 24, 25, 24, 45, 128, 29, 60), (117, 115, 50, 5, 46, 82, 106, 4, 81, 69, 33, 69), (14, 87, 26, 29, 32, 25, 37, 24, 15, 17, 41, 33), (8, 40, 60, 58, 9, 36, 47, 21, 34, 15, 73, 41), (79, 51, 42, 42, 21, 69, 102, 9, 69, 69, 49, 83), (82, 50, 62, 35, 30, 51, 81, 12, 48, 50, 55, 96), (62, 57, 70, 57, 35, 46, 34, 9, 50, 101, 8, 20), (94, 28, 66, 49, 22, 82, 116, 12, 90, 84, 63, 109), (54, 89, 41, 40, 25, 5, 32, 7, 10, 75, 19, 38), (35, 30, 23, 35, 52, 59, 71, 15, 99, 15, 60, 84), (18, 120, 39, 48, 2, 43, 50, 23, 35, 15, 24, 44), (122, 54, 39, 3, 23, 90, 125, 12, 98, 105, 64, 119), (31, 8, 15, 31, 9, 94, 129, 7, 73, 59, 49, 54), (13, 26, 11, 44, 7, 39, 46, 13, 47, 3, 40, 32), (76, 113, 48, 51, 23, 30, 19, 24, 40, 104, 16, 68), (12, 66, 69, 46, 48, 18, 27, 1, 50, 13, 40, 50), (2, 73, 43, 40, 17, 78, 93, 15, 67, 30, 25, 50), (41, 21, 13, 21, 21, 41, 40, 31, 3, 85, 43, 24), (23, 90, 35, 35, 17, 3, 3, 21, 6, 78, 12, 35), (28, 6, 9, 8, 49, 35, 54, 18, 95, 35, 51, 68), (100, 46, 43, 6, 31, 96, 128, 15, 70, 100, 46, 102), (114, 33, 48, 18, 29, 90, 130, 15, 69, 116, 66, 120), (16, 9, 33, 45, 22, 91, 64, 0, 56, 29, 44, 81), (39, 17, 15, 40, 24, 12, 10, 31, 39, 106, 5, 52), (19, 69, 21, 45, 6, 63, 87, 19, 35, 19, 30, 11), (121, 59, 49, 21, 33, 95, 122, 7, 84, 109, 30, 116), (125, 37, 21, 6, 18, 73, 102, 12, 76, 70, 53, 91), (104, 57, 72, 37, 28, 79, 101, 19, 63, 59, 68, 82), (46, 99, 10, 13, 2, 21, 33, 24, 10, 35, 16, 10), (115, 47, 46, 10, 32, 89, 120, 17, 75, 97, 50, 115), (59, 132, 17, 46, 7, 65, 87, 13, 78, 15, 18, 12), (101, 38, 58, 24, 15, 56, 103, 6, 87, 80, 67, 106), (85, 80, 65, 55, 26, 16, 24, 20, 48, 115, 19, 68), (36, 15, 28, 26, 6, 40, 10, 35, 29, 77, 20, 53), (36, 45, 10, 42, 6, 46, 55, 15, 46, 23, 49, 55), (73, 4, 37, 22, 30, 60, 35, 32, 1, 28, 47, 68), (108, 41, 24, 13, 17, 68, 73, 9, 76, 62, 49, 90), (110, 62, 41, 33, 24, 72, 99, 15, 90, 91, 52, 93), (76, 124, 74, 56, 32, 39, 26, 10, 24, 113, 13, 51), (72, 94, 39, 46, 13, 37, 20, 26, 29, 112, 2, 53), (84, 43, 34, 15, 36, 85, 118, 17, 88, 90, 40, 72), (49, 98, 33, 38, 9, 12, 15, 21, 17, 126, 17, 59), (113, 77, 48, 40, 12, 23, 18, 25, 28, 123, 9, 54), (31, 14, 55, 30, 19, 55, 87, 19, 81, 60, 63, 57), (46, 72, 31, 38, 7, 8, 5, 28, 4, 124, 4, 28), (20, 65, 1, 26, 18, 48, 65, 9, 39, 32, 69, 61)]\n",
            "\n",
            "data_test: [(77, 108, 16, 33, 11, 56, 88, 10, 46, 52, 36, 90), (99, 84, 33, 48, 11, 6, 16, 22, 19, 122, 16, 48), (6, 61, 31, 29, 19, 83, 70, 2, 35, 30, 60, 6), (68, 119, 29, 40, 39, 17, 17, 24, 35, 125, 6, 74), (10, 83, 76, 40, 24, 27, 59, 35, 21, 41, 66, 47), (89, 16, 7, 29, 15, 43, 52, 15, 6, 41, 66, 51), (24, 13, 3, 21, 51, 32, 34, 1, 93, 21, 70, 63), (118, 43, 44, 12, 45, 73, 107, 11, 87, 81, 49, 94), (27, 86, 25, 29, 9, 56, 69, 8, 77, 8, 59, 1), (40, 19, 6, 31, 9, 11, 38, 12, 35, 12, 49, 41), (88, 91, 55, 10, 35, 69, 105, 2, 57, 69, 41, 76), (28, 10, 31, 13, 22, 42, 29, 37, 0, 31, 68, 58), (105, 56, 57, 9, 22, 88, 124, 2, 60, 76, 32, 96), (56, 100, 36, 31, 27, 8, 18, 21, 14, 73, 14, 56), (87, 51, 66, 24, 32, 75, 98, 13, 45, 104, 70, 112), (57, 40, 58, 62, 50, 90, 96, 5, 74, 33, 71, 86), (67, 81, 75, 45, 37, 73, 89, 20, 66, 53, 49, 66), (70, 60, 64, 21, 23, 82, 114, 14, 57, 88, 52, 107), (97, 31, 66, 38, 47, 79, 90, 29, 35, 75, 68, 104), (122, 103, 31, 13, 23, 88, 111, 10, 85, 64, 49, 94), (95, 40, 28, 17, 37, 63, 97, 5, 53, 86, 37, 93), (94, 122, 29, 49, 9, 4, 1, 30, 26, 96, 23, 37), (117, 42, 33, 16, 37, 87, 104, 9, 79, 94, 39, 85), (109, 36, 31, 13, 44, 82, 111, 7, 82, 82, 54, 71), (61, 112, 37, 46, 33, 10, 39, 17, 25, 121, 4, 39), (110, 69, 33, 29, 26, 79, 119, 6, 90, 85, 68, 117), (31, 4, 0, 0, 9, 39, 9, 11, 1, 3, 50, 37), (62, 7, 1, 9, 1, 81, 112, 9, 86, 74, 57, 34), (65, 49, 18, 1, 21, 68, 91, 9, 31, 56, 50, 92), (17, 3, 12, 35, 7, 55, 70, 13, 42, 13, 74, 0), (17, 99, 12, 35, 8, 40, 48, 19, 70, 0, 38, 42), (20, 22, 49, 49, 5, 62, 72, 24, 20, 22, 38, 13), (15, 121, 40, 45, 4, 76, 105, 5, 97, 20, 20, 12), (14, 1, 56, 29, 15, 46, 67, 6, 89, 26, 24, 37), (31, 12, 7, 39, 1, 44, 57, 10, 20, 61, 57, 35), (31, 36, 33, 55, 9, 47, 77, 21, 71, 7, 33, 5), (30, 107, 39, 45, 9, 49, 25, 29, 20, 107, 3, 37), (85, 39, 37, 36, 27, 76, 113, 6, 73, 99, 54, 118), (13, 44, 5, 38, 7, 59, 48, 19, 41, 5, 39, 18), (25, 17, 8, 35, 13, 52, 60, 20, 81, 18, 30, 2), (34, 90, 61, 60, 18, 35, 10, 37, 25, 105, 13, 79), (3, 105, 4, 38, 28, 86, 83, 7, 100, 22, 20, 41), (119, 58, 67, 40, 39, 73, 109, 16, 75, 91, 52, 108), (4, 63, 78, 61, 38, 86, 131, 27, 70, 88, 38, 26), (81, 51, 59, 40, 17, 60, 84, 11, 57, 36, 57, 76), (20, 52, 35, 31, 3, 18, 42, 30, 55, 11, 53, 30), (50, 88, 59, 54, 22, 50, 11, 31, 9, 65, 33, 45), (59, 45, 14, 4, 13, 70, 117, 2, 97, 102, 57, 100), (47, 82, 48, 48, 32, 12, 38, 7, 30, 129, 0, 30), (80, 39, 27, 54, 8, 33, 53, 10, 19, 40, 43, 29), (27, 35, 24, 41, 24, 1, 28, 19, 45, 26, 35, 78), (60, 28, 15, 11, 19, 53, 86, 11, 37, 39, 62, 89), (20, 11, 50, 54, 1, 40, 44, 21, 39, 9, 71, 51), (105, 128, 26, 40, 2, 0, 0, 21, 5, 64, 5, 18), (111, 27, 35, 21, 16, 46, 76, 9, 51, 66, 61, 108), (33, 31, 32, 46, 7, 71, 110, 20, 64, 46, 15, 7), (90, 52, 37, 24, 25, 55, 89, 23, 75, 42, 66, 87), (66, 97, 31, 31, 19, 30, 23, 36, 70, 127, 3, 56), (51, 34, 51, 28, 16, 58, 74, 9, 45, 45, 54, 88), (27, 23, 10, 13, 6, 61, 78, 12, 64, 22, 66, 21), (32, 123, 68, 59, 23, 46, 63, 24, 61, 6, 37, 9)]\n",
            "Accuracy: 0.9836065573770492\n",
            "confusion_matrix\n",
            "[[22  0  0]\n",
            " [ 1 27  0]\n",
            " [ 0  0 11]]\n",
            "precision: [0.95652174 1.         1.        ]\n",
            "recall: [1.         0.96428571 1.        ]\n"
          ]
        }
      ],
      "source": [
        "import numpy as np\n",
        "from sklearn import datasets\n",
        "from sklearn.datasets import load_wine\n",
        "from sklearn.naive_bayes import GaussianNB\n",
        "from sklearn.preprocessing import LabelEncoder,OneHotEncoder\n",
        "from sklearn import preprocessing\n",
        "\n",
        "\n",
        "import pandas as pd\n",
        "\n",
        "wine = datasets.load_wine()\n",
        "# print(wine)\n",
        "\n",
        "x = pd.DataFrame(wine['data'])\n",
        "print(x)\n",
        "\n",
        "# y = wine.target\n",
        "print(y)\n",
        "\n",
        "print(wine.feature_names)\n",
        "print(wine.target_names)\n",
        "le = preprocessing.LabelEncoder()\n",
        "\n",
        "# Converting string labels into numbers.\n",
        "alcohol_encoded=le.fit_transform(x[0])\n",
        "malic_acid_encoded=le.fit_transform(x[1])\n",
        "ash_encoded=le.fit_transform(x[2])\n",
        "alcalinity_of_ash_encoded=le.fit_transform(x[3])\n",
        "magnesium_encoded=le.fit_transform(x[4])\n",
        "total_phenols_encoded=le.fit_transform(x[5])\n",
        "flavanoids_encoded=le.fit_transform(x[6])\n",
        "nonflavanoid_phenolsencoded=le.fit_transform(x[7])\n",
        "proanthocyanins_encoded=le.fit_transform(x[8])\n",
        "color_intensity_encoded=le.fit_transform(x[9])\n",
        "hue_encoded=le.fit_transform(x[10])\n",
        "diluted_wines_encoded=le.fit_transform(x[11])\n",
        "prolineencoded=le.fit_transform(x[12])\n",
        "\n",
        "features=tuple(zip(alcohol_encoded,malic_acid_encoded,ash_encoded,alcalinity_of_ash_encoded,magnesium_encoded,total_phenols_encoded,flavanoids_encoded,nonflavanoid_phenolsencoded,proanthocyanins_encoded,color_intensity_encoded,hue_encoded,prolineencoded))\n",
        "\n",
        "\n",
        "# class0 = le.fit_transform()\n",
        "# class1 = le.fit_transform(wine.class1)\n",
        "# class2 = le.fit_transform(wine.class2)\n",
        "\n",
        "# label=tuple(zip(class0,class1,class2))\n",
        "\n",
        "# ['alcohol', 'malic_acid', 'ash', 'alcalinity_of_ash', 'magnesium', 'total_phenols', 'flavanoids', 'nonflavanoid_phenols', 'proanthocyanins', 'color_intensity', 'hue', 'od280/od315_of_diluted_wines', 'proline']\n",
        "\n",
        "\n",
        "data_train, data_test, target_train, target_test = train_test_split(features,wine.target,test_size = 0.34, random_state = 112)\n",
        "\n",
        "print(\"\\n\\ndata: \",data_train)\n",
        "print(\"\\ndata_test:\",data_test)\n",
        "\n",
        "\n",
        "gnb = GaussianNB()\n",
        "#Train the model using the training sets\n",
        "gnb.fit(data_train, target_train)\n",
        "#Predict the response for test dataset\n",
        "target_pred = gnb.predict(data_test)\n",
        "\n",
        "# Model Accuracy, how often is the classifier correct?\n",
        "print(\"Accuracy:\",metrics.accuracy_score(target_test, target_pred))\n",
        "\n",
        "print(\"confusion_matrix\")\n",
        "print(confusion_matrix(target_test, target_pred))\n",
        "\n",
        "precision = precision_score(target_test, target_pred,average=None)\n",
        "recall = recall_score(target_test, target_pred,average = None)\n",
        "print('precision: {}'.format(precision))\n",
        "print('recall: {}'.format(recall))"
      ]
    },
    {
      "cell_type": "code",
      "execution_count": null,
      "metadata": {
        "id": "EqQIOWXQOYSm"
      },
      "outputs": [],
      "source": []
    }
  ],
  "metadata": {
    "colab": {
      "provenance": [],
      "include_colab_link": true
    },
    "kernelspec": {
      "display_name": "Python 3",
      "name": "python3"
    },
    "language_info": {
      "name": "python"
    }
  },
  "nbformat": 4,
  "nbformat_minor": 0
}
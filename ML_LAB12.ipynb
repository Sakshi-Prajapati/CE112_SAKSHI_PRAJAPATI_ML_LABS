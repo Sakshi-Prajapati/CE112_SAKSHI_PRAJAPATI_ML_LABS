{
  "nbformat": 4,
  "nbformat_minor": 0,
  "metadata": {
    "colab": {
      "provenance": [],
      "include_colab_link": true
    },
    "kernelspec": {
      "name": "python3",
      "display_name": "Python 3"
    },
    "language_info": {
      "name": "python"
    }
  },
  "cells": [
    {
      "cell_type": "markdown",
      "metadata": {
        "id": "view-in-github",
        "colab_type": "text"
      },
      "source": [
        "<a href=\"https://colab.research.google.com/github/Sakshi-Prajapati/ML_LABS/blob/main/ML_LAB12.ipynb\" target=\"_parent\"><img src=\"https://colab.research.google.com/assets/colab-badge.svg\" alt=\"Open In Colab\"/></a>"
      ]
    },
    {
      "cell_type": "code",
      "execution_count": 36,
      "metadata": {
        "colab": {
          "base_uri": "https://localhost:8080/",
          "height": 389
        },
        "id": "cM0J-GizLzCo",
        "outputId": "a5a2a154-25da-4411-b67d-17623eae04ee"
      },
      "outputs": [
        {
          "output_type": "display_data",
          "data": {
            "text/plain": [
              "<Figure size 432x288 with 1 Axes>"
            ],
            "image/png": "[encoded data removed]"
          },
          "metadata": {
            "needs_background": "light"
          }
        },
        {
          "output_type": "stream",
          "name": "stdout",
          "text": [
            "tensor(5, dtype=torch.uint8)\n",
            "num_epochs :  5000\n"
          ]
        },
        {
          "output_type": "stream",
          "name": "stderr",
          "text": [
            "<ipython-input-36-a422f90fb3b2>:62: FutureWarning: The input object of type 'Tensor' is an array-like implementing one of the corresponding protocols (`__array__`, `__array_interface__` or `__array_struct__`); but not a sequence (or 0-D). In the future, this object will be coerced as if it was first converted using `np.array(obj)`. To retain the old behaviour, you have to either modify the type 'Tensor', or assign to an empty array created with `np.empty(correct_shape, dtype=object)`.\n",
            "  trainset=np.array(list(zip(X_train,y_train)))\n",
            "<ipython-input-36-a422f90fb3b2>:62: VisibleDeprecationWarning: Creating an ndarray from ragged nested sequences (which is a list-or-tuple of lists-or-tuples-or ndarrays with different lengths or shapes) is deprecated. If you meant to do this, you must specify 'dtype=object' when creating the ndarray.\n",
            "  trainset=np.array(list(zip(X_train,y_train)))\n"
          ]
        }
      ],
      "source": [
        "import matplotlib.pyplot as plt\n",
        "import numpy as np\n",
        "import pandas as pd\n",
        "import torch\n",
        "import torch.nn as nn\n",
        "from torch.autograd import Variable\n",
        "from torch.utils.data import DataLoader\n",
        "import tensorflow\n",
        "from sklearn.model_selection import train_test_split\n",
        "from tensorflow.keras.datasets import mnist\n",
        "from sklearn.preprocessing import MinMaxScaler\n",
        "from random import random\n",
        "\n",
        "def flatten(X_data):\n",
        "  flatten_data=[]\n",
        "  for i in range(len(X_data)):\n",
        "    sample=X_data[i]\n",
        "    flatten_row=[]\n",
        "    for row in sample:\n",
        "      flatten_row+=list(row)\n",
        "      pass\n",
        "    pass\n",
        "    flatten_data.append(np.array(flatten_row,dtype='float32'))\n",
        "    pass\n",
        "  return np.array(flatten_data)\n",
        "  pass\n",
        "\n",
        "\n",
        "(X_train, y_train), (X_test,y_test) = mnist.load_data()\n",
        "\n",
        "X_train=X_train[0:100]\n",
        "y_train=y_train[0:100]\n",
        "\n",
        "# visualize one of the images in data set\n",
        "sample_image_mat=X_train[int(random()*len(X_train))]\n",
        "plt.imshow(sample_image_mat)\n",
        "plt.show()\n",
        "\n",
        "\n",
        "X_train=flatten(X_train)\n",
        "# X_test=flatten(X_test)\n",
        "\n",
        "scaler = MinMaxScaler().fit(X_train)\n",
        "X_train=scaler.transform(X_train)\n",
        "# X_test=scaler.transform(X_test)\n",
        "\n",
        "X_train=torch.tensor(X_train)\n",
        "# X_test=torch.tensor(X_test)\n",
        "\n",
        "y_train=torch.tensor(y_train)\n",
        "# y_test=torch.tensor(y_test)\n",
        "\n",
        "print(y_train[0])\n",
        "\n",
        "batch_size = 100\n",
        "n_iters = 5000\n",
        "\n",
        "num_epochs = n_iters / (len(X_train) / batch_size)\n",
        "num_epochs = int(num_epochs)\n",
        "\n",
        "print(\"num_epochs : \",num_epochs)\n",
        "trainset=np.array(list(zip(X_train,y_train)))\n",
        "trainloader = DataLoader(trainset, batch_size=batch_size,shuffle=True)\n",
        "\n",
        "\n",
        "# dataiter = iter(trainloader)\n",
        "# for _ in range(len(X_train)-1):\n",
        "#   input,target=next(dataiter)\n",
        "#   print(target,input)\n",
        "#   pass\n",
        "# print(trainloader)\n",
        "\n"
      ]
    },
    {
      "cell_type": "code",
      "source": [
        "import matplotlib.pyplot as plt\n",
        "import numpy as np\n",
        "import pandas as pd\n",
        "import torch\n",
        "import torch.nn as nn\n",
        "from torch.autograd import Variable\n",
        "from torch.utils.data import TensorDataset,DataLoader\n",
        "import tensorflow\n",
        "from sklearn.model_selection import train_test_split\n",
        "from keras.datasets import mnist\n",
        "import tensorflow as tf\n",
        "from sklearn.preprocessing import MinMaxScaler\n",
        "from sklearn.metrics import accuracy_score\n",
        "from random import random\n",
        "\n",
        "def flatten(X_data):\n",
        "    flatten_data=[]\n",
        "    for i in range(len(X_data)):\n",
        "        sample=X_data[i]\n",
        "        flatten_row=[]\n",
        "        for row in sample:\n",
        "            flatten_row+=list(row)\n",
        "        flatten_data.append(np.array(flatten_row,dtype='float32'))\n",
        "    return np.array(flatten_data)\n",
        "\n",
        "class ANNModel(nn.Module):\n",
        "    def __init__(self, input_dim, hidden_dim1,hidden_dim2, output_dim):\n",
        "        super(ANNModel, self).__init__()\n",
        "        self.sigmoid = nn.Sigmoid()\n",
        "        self.fc1 = nn.Linear(input_dim, hidden_dim1)\n",
        "        self.fc2 = nn.Linear(hidden_dim1, output_dim)\n",
        "        # self.fc2 = nn.Linear(hidden_dim1, hidden_dim2)\n",
        "        # self.fc3 = nn.Linear(hidden_dim2, output_dim)\n",
        "        \n",
        "    def forward(self, x):\n",
        "        out = self.fc1(x)\n",
        "        out = self.sigmoid(out)\n",
        "        out = self.fc2(out)\n",
        "        out = self.sigmoid(out)\n",
        "        # out = self.fc3(out)\n",
        "        # out = self.sigmoid(out)\n",
        "        \n",
        "        return out\n",
        "\n",
        "    def predict(self,x):\n",
        "        \n",
        "        output=self.forward(x).tolist()\n",
        "        output_labels=[]\n",
        "        for elem in output : \n",
        "          lbl=elem.index(max(elem))\n",
        "          output_labels.append(lbl)\n",
        "        # print(output_labels)\n",
        "        output_labels=np.array(output_labels)\n",
        "        # print(\"label : \",lbl)\n",
        "        # print(output)\n",
        "        return output_labels\n",
        "        pass\n",
        "\n",
        "(X_train, y_train), (X_test,y_test) = mnist.load_data()\n",
        "\n",
        "X_train=X_train[0:100]\n",
        "X_test=X_test[0:100]\n",
        "y_train=y_train[0:100]\n",
        "y_test=y_test[0:100]\n",
        "\n",
        "# visualize one of the images in data set\n",
        "sample_image_mat=X_train[int(random()*len(X_train))]\n",
        "plt.imshow(sample_image_mat)\n",
        "plt.show()\n",
        "\n",
        "X_train=flatten(X_train)\n",
        "X_test=flatten(X_test)\n",
        "\n",
        "scaler = MinMaxScaler().fit(X_train)\n",
        "X_train=scaler.transform(X_train)\n",
        "\n",
        "X_train=torch.tensor(X_train)\n",
        "X_test=torch.tensor(X_test)\n",
        "y_train=torch.tensor(y_train)\n",
        "y_test=torch.tensor(y_test)\n",
        "\n",
        "print(y_train[0])\n",
        "\n",
        "batch_size = 10\n",
        "n_iters = 1000\n",
        "\n",
        "num_epochs = n_iters / (len(X_train) / batch_size)\n",
        "num_epochs = int(num_epochs)\n",
        "\n",
        "print(\"num_epochs : \",num_epochs)\n",
        "# trainset = [(X_train[i], y_train[i]) for i in range(len(X_train))]\n",
        "trainset=TensorDataset(X_train,y_train)\n",
        "trainloader = DataLoader(trainset, batch_size=batch_size, shuffle=True)\n",
        "\n",
        "# dataiter = iter(trainloader)\n",
        "\n",
        "# while True:\n",
        "#   try:\n",
        "#     input, target = next(dataiter)\n",
        "#     print(target)\n",
        "#   except StopIteration:\n",
        "#     break\n",
        "\n",
        "input_dim = X_train.shape[1]\n",
        "hidden_dim1 = 100\n",
        "hidden_dim2 = 100\n",
        "output_dim = 10\n",
        "\n",
        "model = ANNModel(input_dim, hidden_dim1,hidden_dim2, output_dim)\n",
        "\n",
        "# criterion = nn.CrossEntropyLoss()\n",
        "# criterion=tf.keras.losses.CategoricalCrossentropy()\n",
        "criterion=nn.MSELoss()\n",
        "\n",
        "learning_rate = 0.2\n",
        "optimizer = torch.optim.SGD(model.parameters(), lr=learning_rate)\n",
        "\n",
        "\n",
        "for epoch in range(num_epochs):\n",
        "  for i, (images, labels) in enumerate(trainloader):\n",
        "    inputs = Variable(images.view(-1, input_dim))\n",
        "    labels = Variable(labels)\n",
        "    optimizer.zero_grad()\n",
        "    outputs=model(inputs)\n",
        "    # outputs = torch.tensor(model(inputs),dtype=torch.float)\n",
        "    # labels = torch.tensor(labels,dtype=torch.float)\n",
        "    # print(outputs.shape,labels.shape)\n",
        "    # print(outputs,labels)\n",
        "    loss = criterion(outputs, labels)\n",
        "    # loss.backward()\n",
        "    optimizer.step()\n",
        "    # if (i+1) % 10 == 0:\n",
        "    #     print('Epoch [%d/%d], Step [%d/%d], Loss: %.4f'\n",
        "    #           % (epoch+1, num_epochs, i+1, len(trainset)//batch_size, loss.item()))\n",
        "    pass\n",
        "  pass\n",
        "\n",
        "from sklearn import metrics\n",
        "\n",
        "# print(model.forward())\n",
        "sample=torch.tensor(flatten([sample_image_mat]))\n",
        "print(model.predict(sample))\n",
        "y_pred=torch.tensor(model.predict(X_test))\n",
        "# print(y_pred,y_test)\n",
        "# print(accuracy_score(y_pred,y_test))\n",
        "print(\"Accuracy:\",metrics.accuracy_score(y_test, y_pred))\n"
      ],
      "metadata": {
        "colab": {
          "base_uri": "https://localhost:8080/",
          "height": 389
        },
        "id": "DkoCm6FdbqoP",
        "outputId": "62d9d2d5-d630-46f4-cbaa-5bf5147b22fe"
      },
      "execution_count": null,
      "outputs": [
        {
          "output_type": "display_data",
          "data": {
            "text/plain": [
              "<Figure size 432x288 with 1 Axes>"
            ],
            "image/png": "[encoded data removed]"
          },
          "metadata": {
            "needs_background": "light"
          }
        },
        {
          "output_type": "stream",
          "name": "stdout",
          "text": [
            "tensor(5, dtype=torch.uint8)\n",
            "num_epochs :  100\n"
          ]
        },
        {
          "output_type": "stream",
          "name": "stderr",
          "text": [
            "/usr/local/lib/python3.9/dist-packages/torch/nn/modules/loss.py:536: UserWarning: Using a target size (torch.Size([10])) that is different to the input size (torch.Size([10, 10])). This will likely lead to incorrect results due to broadcasting. Please ensure they have the same size.\n",
            "  return F.mse_loss(input, target, reduction=self.reduction)\n"
          ]
        },
        {
          "output_type": "stream",
          "name": "stdout",
          "text": [
            "[1]\n",
            "Accuracy: 0.1\n"
          ]
        }
      ]
    },
    {
      "cell_type": "markdown",
      "source": [],
      "metadata": {
        "id": "ze4IcBtLMHS0"
      }
    }
  ]
}